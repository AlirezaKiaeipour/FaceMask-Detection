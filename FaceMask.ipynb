{
 "cells": [
  {
   "cell_type": "markdown",
   "metadata": {
    "id": "UvOod63LGHKG"
   },
   "source": [
    "## Import Libraries & Load Dataset"
   ]
  },
  {
   "cell_type": "code",
   "execution_count": 1,
   "metadata": {},
   "outputs": [],
   "source": [
    "from tensorflow.keras.models import Sequential\n",
    "from tensorflow.keras.layers import Dense , Conv2D , MaxPool2D , Flatten , Dropout\n",
    "from tensorflow.keras.preprocessing.image import ImageDataGenerator\n",
    "from tensorflow.keras.applications.mobilenet_v2 import MobileNetV2\n",
    "from tensorflow.keras.optimizers import Adam\n",
    "from tensorflow.keras.callbacks import ModelCheckpoint\n",
    "from tensorflow.keras.utils import plot_model\n",
    "import matplotlib.pyplot as plt"
   ]
  },
  {
   "cell_type": "markdown",
   "metadata": {},
   "source": [
    "## Face Mask Dataset"
   ]
  },
  {
   "cell_type": "code",
   "execution_count": 2,
   "metadata": {
    "id": "DSP-Ha_Z0Q6D"
   },
   "outputs": [],
   "source": [
    "image_generator = ImageDataGenerator(\n",
    "    rescale = 1.0 / 255.0,\n",
    "    shear_range = 0.2,\n",
    "    zoom_range = 0.2,\n",
    "    horizontal_flip = True\n",
    ")\n",
    "image_generator_val = ImageDataGenerator(\n",
    "    rescale = 1.0 / 255.0\n",
    ")\n",
    "image_generator_test = ImageDataGenerator(\n",
    "    rescale = 1.0 / 255.0\n",
    ")"
   ]
  },
  {
   "cell_type": "code",
   "execution_count": 3,
   "metadata": {
    "colab": {
     "base_uri": "https://localhost:8080/"
    },
    "id": "BWy8JgW32JX0",
    "outputId": "b78a9f23-d9f1-4a09-ff42-c4d94220aa84"
   },
   "outputs": [
    {
     "name": "stdout",
     "output_type": "stream",
     "text": [
      "Found 10000 images belonging to 2 classes.\n",
      "Found 800 images belonging to 2 classes.\n",
      "Found 992 images belonging to 2 classes.\n"
     ]
    }
   ],
   "source": [
    "Train = image_generator.flow_from_directory(\n",
    "    \"/content/drive/MyDrive/Dataset/FaceMask/Face Mask Dataset/Train\",\n",
    "    class_mode = \"binary\",\n",
    "    batch_size = 32,\n",
    "    target_size = (224,224)\n",
    ")\n",
    "Val = image_generator_val.flow_from_directory(\n",
    "    \"/content/drive/MyDrive/Dataset/FaceMask/Face Mask Dataset/Validation\",\n",
    "    class_mode = \"binary\",\n",
    "    batch_size = 32,\n",
    "    target_size = (224,224)\n",
    ")\n",
    "Test = image_generator_test.flow_from_directory(\n",
    "    \"/content/drive/MyDrive/Dataset/FaceMask/Face Mask Dataset/Test\",\n",
    "    class_mode = \"binary\",\n",
    "    batch_size = 32,\n",
    "    target_size = (224,224)\n",
    ")"
   ]
  },
  {
   "cell_type": "markdown",
   "metadata": {},
   "source": [
    "# Model\n",
    "# Transfer Learning\n",
    "## MobileNetV2"
   ]
  },
  {
   "cell_type": "code",
   "execution_count": 4,
   "metadata": {
    "id": "WDILBO1_8BLF"
   },
   "outputs": [],
   "source": [
    "model_mobilenet = MobileNetV2(weights=\"imagenet\",input_shape=(224,224,3),include_top=False)"
   ]
  },
  {
   "cell_type": "code",
   "execution_count": 5,
   "metadata": {
    "id": "8i-AsjvZ4J0j"
   },
   "outputs": [],
   "source": [
    "model_mobilenet.trainable = False\n",
    "model = Sequential()\n",
    "model.add(model_mobilenet)\n",
    "model.add(Flatten())\n",
    "model.add(Dense(256,activation=\"relu\"))\n",
    "model.add(Dense(128,activation=\"relu\"))\n",
    "model.add(Dropout(0.5))\n",
    "model.add(Dense(1,activation=\"sigmoid\"))"
   ]
  },
  {
   "cell_type": "code",
   "execution_count": 6,
   "metadata": {
    "id": "935fBWJT5pWe"
   },
   "outputs": [],
   "source": [
    "model.compile(optimizer=\"adam\",loss=\"binary_crossentropy\",metrics=[\"accuracy\"])\n",
    "checkpoint = ModelCheckpoint(\"FaceMask_Model.h5\",monitor=\"val_accuracy\",mode=\"max\",save_best_only=True)"
   ]
  },
  {
   "cell_type": "code",
   "execution_count": 7,
   "metadata": {
    "colab": {
     "base_uri": "https://localhost:8080/"
    },
    "id": "KnrwOhLE6WZl",
    "outputId": "7dddf014-2465-494e-df9c-ab279643c239"
   },
   "outputs": [
    {
     "name": "stderr",
     "output_type": "stream",
     "text": [
      "/usr/local/lib/python3.7/dist-packages/ipykernel_launcher.py:7: UserWarning: `Model.fit_generator` is deprecated and will be removed in a future version. Please use `Model.fit`, which supports generators.\n",
      "  import sys\n"
     ]
    },
    {
     "name": "stdout",
     "output_type": "stream",
     "text": [
      "Epoch 1/10\n",
      "313/313 [==============================] - 1609s 5s/step - loss: 0.2734 - accuracy: 0.9734 - val_loss: 0.0412 - val_accuracy: 0.9925\n",
      "Epoch 2/10\n",
      "313/313 [==============================] - 163s 521ms/step - loss: 0.0365 - accuracy: 0.9922 - val_loss: 0.0445 - val_accuracy: 0.9925\n",
      "Epoch 3/10\n",
      "313/313 [==============================] - 166s 531ms/step - loss: 0.0126 - accuracy: 0.9962 - val_loss: 0.0618 - val_accuracy: 0.9912\n",
      "Epoch 4/10\n",
      "313/313 [==============================] - 165s 526ms/step - loss: 0.0173 - accuracy: 0.9954 - val_loss: 0.0286 - val_accuracy: 0.9950\n",
      "Epoch 5/10\n",
      "313/313 [==============================] - 164s 524ms/step - loss: 0.0129 - accuracy: 0.9955 - val_loss: 0.0364 - val_accuracy: 0.9912\n",
      "Epoch 6/10\n",
      "313/313 [==============================] - 163s 519ms/step - loss: 0.0155 - accuracy: 0.9962 - val_loss: 0.0411 - val_accuracy: 0.9950\n",
      "Epoch 7/10\n",
      "313/313 [==============================] - 162s 517ms/step - loss: 0.0181 - accuracy: 0.9947 - val_loss: 0.0148 - val_accuracy: 0.9962\n",
      "Epoch 8/10\n",
      "313/313 [==============================] - 162s 518ms/step - loss: 0.0165 - accuracy: 0.9964 - val_loss: 0.0648 - val_accuracy: 0.9962\n",
      "Epoch 9/10\n",
      "313/313 [==============================] - 162s 518ms/step - loss: 0.0177 - accuracy: 0.9963 - val_loss: 0.0196 - val_accuracy: 0.9962\n",
      "Epoch 10/10\n",
      "313/313 [==============================] - 161s 513ms/step - loss: 0.0087 - accuracy: 0.9969 - val_loss: 0.0481 - val_accuracy: 0.9937\n"
     ]
    }
   ],
   "source": [
    "history = model.fit_generator(\n",
    "    Train,\n",
    "    steps_per_epoch = len(Train),\n",
    "    epochs = 10,\n",
    "    validation_data = Val,\n",
    "    validation_steps = len(Val),\n",
    "    callbacks = [checkpoint]\n",
    ")"
   ]
  },
  {
   "cell_type": "code",
   "execution_count": 8,
   "metadata": {
    "colab": {
     "base_uri": "https://localhost:8080/",
     "height": 336
    },
    "id": "EnavlphE7Obf",
    "outputId": "62fa83d7-d53c-4344-f3b1-be117f101449"
   },
   "outputs": [
    {
     "data": {
      "image/png": "[encoded data removed]",
      "text/plain": [
       "<Figure size 1296x360 with 2 Axes>"
      ]
     },
     "metadata": {
      "needs_background": "light"
     },
     "output_type": "display_data"
    }
   ],
   "source": [
    "fig , (ax1,ax2) = plt.subplots(1,2,figsize=(18,5))\n",
    "ax1.set_title(\"Loss\")\n",
    "ax2.set_title(\"Accuracy\")\n",
    "ax1.plot(history.history[\"loss\"],label=\"Train\",marker=\".\")\n",
    "ax1.plot(history.history[\"val_loss\"],label=\"Test\",marker=\".\")\n",
    "ax2.plot(history.history[\"accuracy\"],label=\"Train\",marker=\".\")\n",
    "ax2.plot(history.history[\"val_accuracy\"],label=\"Test\",marker=\".\")\n",
    "ax1.legend()\n",
    "ax2.legend()\n",
    "plt.show()"
   ]
  },
  {
   "cell_type": "code",
   "execution_count": 9,
   "metadata": {
    "colab": {
     "base_uri": "https://localhost:8080/"
    },
    "id": "zkvp4jolF6e2",
    "outputId": "a1f33049-585e-44a6-b67c-a6c508b61160"
   },
   "outputs": [
    {
     "name": "stdout",
     "output_type": "stream",
     "text": [
      "31/31 [==============================] - 239s 8s/step - loss: 0.0276 - accuracy: 0.9919\n"
     ]
    },
    {
     "data": {
      "text/plain": [
       "[0.02761963941156864, 0.9919354915618896]"
      ]
     },
     "execution_count": 9,
     "metadata": {},
     "output_type": "execute_result"
    }
   ],
   "source": [
    "model.evaluate(Test)"
   ]
  }
 ],
 "metadata": {
  "accelerator": "GPU",
  "colab": {
   "name": "FaceMask.ipynb",
   "provenance": []
  },
  "kernelspec": {
   "display_name": "Python 3 (ipykernel)",
   "language": "python",
   "name": "python3"
  },
  "language_info": {
   "codemirror_mode": {
    "name": "ipython",
    "version": 3
   },
   "file_extension": ".py",
   "mimetype": "text/x-python",
   "name": "python",
   "nbconvert_exporter": "python",
   "pygments_lexer": "ipython3",
   "version": "3.9.6"
  }
 },
 "nbformat": 4,
 "nbformat_minor": 4
}
